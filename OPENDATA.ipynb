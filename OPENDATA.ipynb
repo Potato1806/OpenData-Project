{
 "cells": [
  {
   "cell_type": "markdown",
   "metadata": {
    "slideshow": {
     "slide_type": "notes"
    }
   },
   "source": [
    "# Walking The Dogs\n",
    "\n",
    "By Mark Tong\n",
    "(z5208473)"
   ]
  },
  {
   "cell_type": "code",
   "execution_count": 169,
   "metadata": {
    "slideshow": {
     "slide_type": "slide"
    }
   },
   "outputs": [],
   "source": [
    "#import all necessary programs\n",
    "import matplotlib\n",
    "import matplotlib.pyplot as plt\n",
    "import numpy as np\n",
    "import pandas as pd\n",
    "import os"
   ]
  },
  {
   "cell_type": "code",
   "execution_count": 170,
   "metadata": {
    "scrolled": true,
    "slideshow": {
     "slide_type": "slide"
    }
   },
   "outputs": [
    {
     "name": "stdout",
     "output_type": "stream",
     "text": [
      "<class 'geopandas.geodataframe.GeoDataFrame'>\n"
     ]
    },
    {
     "data": {
      "text/html": [
       "<div>\n",
       "<style scoped>\n",
       "    .dataframe tbody tr th:only-of-type {\n",
       "        vertical-align: middle;\n",
       "    }\n",
       "\n",
       "    .dataframe tbody tr th {\n",
       "        vertical-align: top;\n",
       "    }\n",
       "\n",
       "    .dataframe thead th {\n",
       "        text-align: right;\n",
       "    }\n",
       "</style>\n",
       "<table border=\"1\" class=\"dataframe\">\n",
       "  <thead>\n",
       "    <tr style=\"text-align: right;\">\n",
       "      <th></th>\n",
       "      <th>id</th>\n",
       "      <th>name</th>\n",
       "      <th>snippet</th>\n",
       "      <th>geometry</th>\n",
       "    </tr>\n",
       "  </thead>\n",
       "  <tbody>\n",
       "    <tr>\n",
       "      <th>133</th>\n",
       "      <td>ckan_c41fa3c2_9beb_4d7f_ad27_9cfb16f3a0e3.134</td>\n",
       "      <td>NO DOGS ALLOWED</td>\n",
       "      <td></td>\n",
       "      <td>(POLYGON ((153.42219073 -27.89771276, 153.4224...</td>\n",
       "    </tr>\n",
       "    <tr>\n",
       "      <th>279</th>\n",
       "      <td>ckan_c41fa3c2_9beb_4d7f_ad27_9cfb16f3a0e3.280</td>\n",
       "      <td>DOGS ON LEASH</td>\n",
       "      <td></td>\n",
       "      <td>(POLYGON ((153.40956746 -27.94952388, 153.4098...</td>\n",
       "    </tr>\n",
       "    <tr>\n",
       "      <th>207</th>\n",
       "      <td>ckan_c41fa3c2_9beb_4d7f_ad27_9cfb16f3a0e3.208</td>\n",
       "      <td>NO DOGS ALLOWED</td>\n",
       "      <td></td>\n",
       "      <td>(POLYGON ((153.42144188 -27.89393463, 153.4215...</td>\n",
       "    </tr>\n",
       "    <tr>\n",
       "      <th>294</th>\n",
       "      <td>ckan_c41fa3c2_9beb_4d7f_ad27_9cfb16f3a0e3.298</td>\n",
       "      <td>NO DOGS ALLOWED</td>\n",
       "      <td></td>\n",
       "      <td>(POLYGON ((153.42237656 -27.89820814, 153.4226...</td>\n",
       "    </tr>\n",
       "    <tr>\n",
       "      <th>27</th>\n",
       "      <td>ckan_c41fa3c2_9beb_4d7f_ad27_9cfb16f3a0e3.28</td>\n",
       "      <td>NO DOGS ALLOWED</td>\n",
       "      <td></td>\n",
       "      <td>(POLYGON ((153.41844031 -27.84143216, 153.4098...</td>\n",
       "    </tr>\n",
       "    <tr>\n",
       "      <th>166</th>\n",
       "      <td>ckan_c41fa3c2_9beb_4d7f_ad27_9cfb16f3a0e3.167</td>\n",
       "      <td>DOGS ON LEASH</td>\n",
       "      <td></td>\n",
       "      <td>(POLYGON ((153.43331843 -28.01903702, 153.4334...</td>\n",
       "    </tr>\n",
       "    <tr>\n",
       "      <th>254</th>\n",
       "      <td>ckan_c41fa3c2_9beb_4d7f_ad27_9cfb16f3a0e3.255</td>\n",
       "      <td>NO DOGS ALLOWED</td>\n",
       "      <td></td>\n",
       "      <td>(POLYGON ((153.42188863 -27.89434997, 153.4223...</td>\n",
       "    </tr>\n",
       "    <tr>\n",
       "      <th>126</th>\n",
       "      <td>ckan_c41fa3c2_9beb_4d7f_ad27_9cfb16f3a0e3.127</td>\n",
       "      <td>NO DOGS ALLOWED</td>\n",
       "      <td></td>\n",
       "      <td>(POLYGON ((153.42299908 -27.89822852, 153.4226...</td>\n",
       "    </tr>\n",
       "    <tr>\n",
       "      <th>100</th>\n",
       "      <td>ckan_c41fa3c2_9beb_4d7f_ad27_9cfb16f3a0e3.101</td>\n",
       "      <td>NO DOGS ALLOWED</td>\n",
       "      <td></td>\n",
       "      <td>(POLYGON ((153.43127528 -27.79602049, 153.4350...</td>\n",
       "    </tr>\n",
       "    <tr>\n",
       "      <th>247</th>\n",
       "      <td>ckan_c41fa3c2_9beb_4d7f_ad27_9cfb16f3a0e3.248</td>\n",
       "      <td>NO DOGS ALLOWED</td>\n",
       "      <td></td>\n",
       "      <td>(POLYGON ((153.42281132 -27.89395878, 153.4223...</td>\n",
       "    </tr>\n",
       "  </tbody>\n",
       "</table>\n",
       "</div>"
      ],
      "text/plain": [
       "                                                id             name snippet  \\\n",
       "133  ckan_c41fa3c2_9beb_4d7f_ad27_9cfb16f3a0e3.134  NO DOGS ALLOWED           \n",
       "279  ckan_c41fa3c2_9beb_4d7f_ad27_9cfb16f3a0e3.280    DOGS ON LEASH           \n",
       "207  ckan_c41fa3c2_9beb_4d7f_ad27_9cfb16f3a0e3.208  NO DOGS ALLOWED           \n",
       "294  ckan_c41fa3c2_9beb_4d7f_ad27_9cfb16f3a0e3.298  NO DOGS ALLOWED           \n",
       "27    ckan_c41fa3c2_9beb_4d7f_ad27_9cfb16f3a0e3.28  NO DOGS ALLOWED           \n",
       "166  ckan_c41fa3c2_9beb_4d7f_ad27_9cfb16f3a0e3.167    DOGS ON LEASH           \n",
       "254  ckan_c41fa3c2_9beb_4d7f_ad27_9cfb16f3a0e3.255  NO DOGS ALLOWED           \n",
       "126  ckan_c41fa3c2_9beb_4d7f_ad27_9cfb16f3a0e3.127  NO DOGS ALLOWED           \n",
       "100  ckan_c41fa3c2_9beb_4d7f_ad27_9cfb16f3a0e3.101  NO DOGS ALLOWED           \n",
       "247  ckan_c41fa3c2_9beb_4d7f_ad27_9cfb16f3a0e3.248  NO DOGS ALLOWED           \n",
       "\n",
       "                                              geometry  \n",
       "133  (POLYGON ((153.42219073 -27.89771276, 153.4224...  \n",
       "279  (POLYGON ((153.40956746 -27.94952388, 153.4098...  \n",
       "207  (POLYGON ((153.42144188 -27.89393463, 153.4215...  \n",
       "294  (POLYGON ((153.42237656 -27.89820814, 153.4226...  \n",
       "27   (POLYGON ((153.41844031 -27.84143216, 153.4098...  \n",
       "166  (POLYGON ((153.43331843 -28.01903702, 153.4334...  \n",
       "254  (POLYGON ((153.42188863 -27.89434997, 153.4223...  \n",
       "126  (POLYGON ((153.42299908 -27.89822852, 153.4226...  \n",
       "100  (POLYGON ((153.43127528 -27.79602049, 153.4350...  \n",
       "247  (POLYGON ((153.42281132 -27.89395878, 153.4223...  "
      ]
     },
     "execution_count": 170,
     "metadata": {},
     "output_type": "execute_result"
    }
   ],
   "source": [
    "#import mapping program\n",
    "import geopandas as gpd\n",
    "#access dataset\n",
    "fname = \"dogs.json\"\n",
    "df = gpd.read_file(fname)\n",
    "print(type(df))\n",
    "#list 10 samples from dataset\n",
    "df.sample(10)"
   ]
  },
  {
   "cell_type": "code",
   "execution_count": 171,
   "metadata": {
    "slideshow": {
     "slide_type": "slide"
    }
   },
   "outputs": [
    {
     "name": "stdout",
     "output_type": "stream",
     "text": [
      "id                ckan_c41fa3c2_9beb_4d7f_ad27_9cfb16f3a0e3.1\n",
      "name                                       DOG EXERCISE AREAS\n",
      "snippet                                                      \n",
      "geometry    (POLYGON ((153.32844173 -27.98617383, 153.3283...\n",
      "Name: 0, dtype: object\n"
     ]
    },
    {
     "data": {
      "image/svg+xml": [
       "<svg xmlns=\"http://www.w3.org/2000/svg\" xmlns:xlink=\"http://www.w3.org/1999/xlink\" width=\"100.0\" height=\"100.0\" viewBox=\"153.3280269168 -27.9875387832 0.000931206399968687 0.0016208964000021808\" preserveAspectRatio=\"xMinYMin meet\"><g transform=\"matrix(1,0,0,-1,0,-55.973456670000004)\"><g><path fill-rule=\"evenodd\" fill=\"#66cc99\" stroke=\"#555555\" stroke-width=\"3.2417928000043615e-05\" opacity=\"0.6\" d=\"M 153.32844173,-27.98617383 L 153.3283177,-27.98597792 L 153.32808695,-27.98720087 L 153.32809071,-27.98719608 L 153.32809722,-27.98718614 L 153.32810129,-27.98717376 L 153.32810486,-27.98716049 L 153.32811126,-27.98714125 L 153.32812059,-27.98712371 L 153.32813112,-27.98710925 L 153.32813999,-27.98710462 L 153.32815609,-27.98710504 L 153.32816945,-27.98711241 L 153.3281817,-27.9871168 L 153.32819511,-27.98711406 L 153.32821465,-27.98711356 L 153.32823378,-27.98711586 L 153.32824963,-27.98711772 L 153.32827101,-27.98711604 L 153.32829807,-27.98710921 L 153.32831667,-27.98710429 L 153.32832918,-27.98710724 L 153.32833943,-27.98711426 L 153.3283444,-27.98712345 L 153.32835232,-27.98713435 L 153.32836023,-27.98714534 L 153.32836631,-27.98715751 L 153.32836928,-27.98716933 L 153.328372,-27.98718259 L 153.32837448,-27.98719721 L 153.32837786,-27.98720622 L 153.32838396,-27.98722841 L 153.32839257,-27.98724518 L 153.32840571,-27.98726392 L 153.32841799,-27.98727833 L 153.3284275,-27.9872895 L 153.32843885,-27.9872994 L 153.32844718,-27.98730759 L 153.32846062,-27.98731496 L 153.32847422,-27.98732089 L 153.32848901,-27.98732979 L 153.32850052,-27.98733833 L 153.32851028,-27.98734806 L 153.32851685,-27.98735752 L 153.32852619,-27.98737004 L 153.32853636,-27.98737697 L 153.32855131,-27.98738451 L 153.32856744,-27.98739503 L 153.32858063,-27.98740385 L 153.32859517,-27.9874141 L 153.32860787,-27.98742571 L 153.32861897,-27.98743706 L 153.32862539,-27.9874514 L 153.32880962,-27.98747875 L 153.32889809,-27.98701003 L 153.32872376,-27.98679086 L 153.32868559,-27.98670142 L 153.32861904,-27.98654526 L 153.32855122,-27.98638603 L 153.32849962,-27.98637731 L 153.32845496,-27.98636045 L 153.32842015,-27.98633048 L 153.32839983,-27.98629144 L 153.32839676,-27.9862484 L 153.32841139,-27.98620739 L 153.32844173,-27.98617383 z\" /></g></g></svg>"
      ],
      "text/plain": [
       "<shapely.geometry.multipolygon.MultiPolygon at 0x2222f3f67f0>"
      ]
     },
     "execution_count": 171,
     "metadata": {},
     "output_type": "execute_result"
    }
   ],
   "source": [
    "#listing details of one sample in the dataset\n",
    "a = df.iloc[0]\n",
    "print(a)\n",
    "a.geometry"
   ]
  },
  {
   "cell_type": "code",
   "execution_count": 172,
   "metadata": {
    "slideshow": {
     "slide_type": "skip"
    }
   },
   "outputs": [],
   "source": [
    "saved_style_state = matplotlib.rcParams.copy() #give us a style state to go back to"
   ]
  },
  {
   "cell_type": "code",
   "execution_count": 173,
   "metadata": {
    "slideshow": {
     "slide_type": "skip"
    }
   },
   "outputs": [
    {
     "name": "stdout",
     "output_type": "stream",
     "text": [
      "loading from file\n",
      "done\n"
     ]
    }
   ],
   "source": [
    "if os.path.isfile(\"dogs.json\"):\n",
    "    filepath = \"dogs.json\"\n",
    "    print(\"loading from file\")\n",
    "else:\n",
    "    filepath = \"https://data.gov.au/geoserver/permitted-and-prohibited-dog-areas/wfs?request=GetFeature&typeName=ckan_c41fa3c2_9beb_4d7f_ad27_9cfb16f3a0e3&outputFormat=json\"\n",
    "    print(\"loading from the internet\")\n",
    "\n",
    "DOGGO = pd.read_csv(filepath)\n",
    "print(\"done\")"
   ]
  },
  {
   "cell_type": "code",
   "execution_count": 174,
   "metadata": {
    "slideshow": {
     "slide_type": "slide"
    }
   },
   "outputs": [
    {
     "data": {
      "text/plain": [
       "0      DOG EXERCISE AREAS\n",
       "1      DOG EXERCISE AREAS\n",
       "2      DOG EXERCISE AREAS\n",
       "3      DOG EXERCISE AREAS\n",
       "4      DOG EXERCISE AREAS\n",
       "5      DOG EXERCISE AREAS\n",
       "6         NO DOGS ALLOWED\n",
       "7      DOG EXERCISE AREAS\n",
       "8      DOG EXERCISE AREAS\n",
       "9      DOG EXERCISE AREAS\n",
       "10          DOGS ON LEASH\n",
       "11          DOGS ON LEASH\n",
       "12     DOG EXERCISE AREAS\n",
       "13     DOG EXERCISE AREAS\n",
       "14     DOG EXERCISE AREAS\n",
       "15     DOG EXERCISE AREAS\n",
       "16        NO DOGS ALLOWED\n",
       "17        NO DOGS ALLOWED\n",
       "18        NO DOGS ALLOWED\n",
       "19        NO DOGS ALLOWED\n",
       "20        NO DOGS ALLOWED\n",
       "21        NO DOGS ALLOWED\n",
       "22        NO DOGS ALLOWED\n",
       "23        NO DOGS ALLOWED\n",
       "24        NO DOGS ALLOWED\n",
       "25        NO DOGS ALLOWED\n",
       "26        NO DOGS ALLOWED\n",
       "27        NO DOGS ALLOWED\n",
       "28        NO DOGS ALLOWED\n",
       "29        NO DOGS ALLOWED\n",
       "              ...        \n",
       "283    DOG EXERCISE AREAS\n",
       "284    DOG EXERCISE AREAS\n",
       "285       NO DOGS ALLOWED\n",
       "286       NO DOGS ALLOWED\n",
       "287    DOG EXERCISE AREAS\n",
       "288       NO DOGS ALLOWED\n",
       "289       NO DOGS ALLOWED\n",
       "290       NO DOGS ALLOWED\n",
       "291       NO DOGS ALLOWED\n",
       "292       NO DOGS ALLOWED\n",
       "293       NO DOGS ALLOWED\n",
       "294       NO DOGS ALLOWED\n",
       "295       NO DOGS ALLOWED\n",
       "296       NO DOGS ALLOWED\n",
       "297       NO DOGS ALLOWED\n",
       "298       NO DOGS ALLOWED\n",
       "299       NO DOGS ALLOWED\n",
       "300       NO DOGS ALLOWED\n",
       "301       NO DOGS ALLOWED\n",
       "302       NO DOGS ALLOWED\n",
       "303       NO DOGS ALLOWED\n",
       "304       NO DOGS ALLOWED\n",
       "305       NO DOGS ALLOWED\n",
       "306    DOG EXERCISE AREAS\n",
       "307       NO DOGS ALLOWED\n",
       "308         DOGS ON LEASH\n",
       "309    DOG EXERCISE AREAS\n",
       "310         DOGS ON LEASH\n",
       "311    DOG EXERCISE AREAS\n",
       "312       NO DOGS ALLOWED\n",
       "Name: name, Length: 313, dtype: object"
      ]
     },
     "execution_count": 174,
     "metadata": {},
     "output_type": "execute_result"
    }
   ],
   "source": [
    "#list all elements under the name heading\n",
    "df[\"name\"]"
   ]
  },
  {
   "cell_type": "code",
   "execution_count": 175,
   "metadata": {
    "slideshow": {
     "slide_type": "slide"
    }
   },
   "outputs": [
    {
     "data": {
      "text/plain": [
       "NO DOGS ALLOWED       178\n",
       "DOG EXERCISE AREAS    124\n",
       "DOGS ON LEASH          11\n",
       "Name: name, dtype: int64"
      ]
     },
     "execution_count": 175,
     "metadata": {},
     "output_type": "execute_result"
    }
   ],
   "source": [
    "#counting the amount of each element\n",
    "q = df[\"name\"].value_counts()\n",
    "q"
   ]
  },
  {
   "cell_type": "code",
   "execution_count": 176,
   "metadata": {
    "slideshow": {
     "slide_type": "slide"
    }
   },
   "outputs": [
    {
     "data": {
      "text/plain": [
       "(313, 4)"
      ]
     },
     "execution_count": 176,
     "metadata": {},
     "output_type": "execute_result"
    }
   ],
   "source": [
    "#shape of the main dataset\n",
    "df.shape"
   ]
  },
  {
   "cell_type": "code",
   "execution_count": 177,
   "metadata": {
    "slideshow": {
     "slide_type": "slide"
    }
   },
   "outputs": [
    {
     "data": {
      "image/png": "[encoded data removed]",
      "text/plain": [
       "<Figure size 720x432 with 1 Axes>"
      ]
     },
     "metadata": {},
     "output_type": "display_data"
    }
   ],
   "source": [
    "#piechart of the proportion of each element\n",
    "labels = 'No Dogs Allowed', 'Dog Exercise Area', 'Dogs On Leash'\n",
    "sizes = [178, 124, 11]\n",
    "explode = (0.1, 0.1, 0.1)\n",
    "fig1, ax1 = plt.subplots()\n",
    "ax1.pie(sizes, explode=explode, labels=labels, autopct='%1.1f%%',\n",
    "        shadow=True, startangle=90)\n",
    "ax1.axis('equal')\n",
    "plt.show()"
   ]
  },
  {
   "cell_type": "code",
   "execution_count": 178,
   "metadata": {
    "slideshow": {
     "slide_type": "slide"
    }
   },
   "outputs": [],
   "source": [
    "#import polyploting\n",
    "import matplotlib.pyplot as plt"
   ]
  },
  {
   "cell_type": "code",
   "execution_count": 179,
   "metadata": {
    "slideshow": {
     "slide_type": "slide"
    }
   },
   "outputs": [
    {
     "data": {
      "text/plain": [
       "<matplotlib.axes._subplots.AxesSubplot at 0x2222f5dbc50>"
      ]
     },
     "execution_count": 179,
     "metadata": {},
     "output_type": "execute_result"
    },
    {
     "data": {
      "image/png": "[encoded data removed]",
      "text/plain": [
       "<Figure size 720x720 with 1 Axes>"
      ]
     },
     "metadata": {
      "needs_background": "light"
     },
     "output_type": "display_data"
    }
   ],
   "source": [
    "#plot all geometry for dataset\n",
    "df.geometry.plot(figsize=(10,10))"
   ]
  },
  {
   "cell_type": "code",
   "execution_count": 180,
   "metadata": {
    "slideshow": {
     "slide_type": "slide"
    }
   },
   "outputs": [
    {
     "data": {
      "text/html": [
       "<div>\n",
       "<style scoped>\n",
       "    .dataframe tbody tr th:only-of-type {\n",
       "        vertical-align: middle;\n",
       "    }\n",
       "\n",
       "    .dataframe tbody tr th {\n",
       "        vertical-align: top;\n",
       "    }\n",
       "\n",
       "    .dataframe thead th {\n",
       "        text-align: right;\n",
       "    }\n",
       "</style>\n",
       "<table border=\"1\" class=\"dataframe\">\n",
       "  <thead>\n",
       "    <tr style=\"text-align: right;\">\n",
       "      <th></th>\n",
       "      <th>id</th>\n",
       "      <th>name</th>\n",
       "      <th>snippet</th>\n",
       "      <th>geometry</th>\n",
       "    </tr>\n",
       "  </thead>\n",
       "  <tbody>\n",
       "    <tr>\n",
       "      <th>20</th>\n",
       "      <td>ckan_c41fa3c2_9beb_4d7f_ad27_9cfb16f3a0e3.42</td>\n",
       "      <td>DOG EXERCISE AREAS</td>\n",
       "      <td></td>\n",
       "      <td>(POLYGON ((153.14176772 -27.68204804, 153.1428...</td>\n",
       "    </tr>\n",
       "    <tr>\n",
       "      <th>93</th>\n",
       "      <td>ckan_c41fa3c2_9beb_4d7f_ad27_9cfb16f3a0e3.226</td>\n",
       "      <td>DOG EXERCISE AREAS</td>\n",
       "      <td></td>\n",
       "      <td>(POLYGON ((153.46689216 -28.11687054, 153.4670...</td>\n",
       "    </tr>\n",
       "    <tr>\n",
       "      <th>39</th>\n",
       "      <td>ckan_c41fa3c2_9beb_4d7f_ad27_9cfb16f3a0e3.85</td>\n",
       "      <td>DOG EXERCISE AREAS</td>\n",
       "      <td></td>\n",
       "      <td>(POLYGON ((153.44211413 -28.11377481, 153.4420...</td>\n",
       "    </tr>\n",
       "    <tr>\n",
       "      <th>77</th>\n",
       "      <td>ckan_c41fa3c2_9beb_4d7f_ad27_9cfb16f3a0e3.190</td>\n",
       "      <td>DOG EXERCISE AREAS</td>\n",
       "      <td></td>\n",
       "      <td>(POLYGON ((153.41748888 -28.00990472, 153.4174...</td>\n",
       "    </tr>\n",
       "    <tr>\n",
       "      <th>45</th>\n",
       "      <td>ckan_c41fa3c2_9beb_4d7f_ad27_9cfb16f3a0e3.115</td>\n",
       "      <td>DOG EXERCISE AREAS</td>\n",
       "      <td></td>\n",
       "      <td>(POLYGON ((153.39658385 -27.98296189, 153.3965...</td>\n",
       "    </tr>\n",
       "    <tr>\n",
       "      <th>17</th>\n",
       "      <td>ckan_c41fa3c2_9beb_4d7f_ad27_9cfb16f3a0e3.39</td>\n",
       "      <td>DOG EXERCISE AREAS</td>\n",
       "      <td></td>\n",
       "      <td>(POLYGON ((153.41621922 -27.99711504, 153.4162...</td>\n",
       "    </tr>\n",
       "    <tr>\n",
       "      <th>97</th>\n",
       "      <td>ckan_c41fa3c2_9beb_4d7f_ad27_9cfb16f3a0e3.231</td>\n",
       "      <td>DOG EXERCISE AREAS</td>\n",
       "      <td></td>\n",
       "      <td>(POLYGON ((153.40339636 -28.03139525, 153.4033...</td>\n",
       "    </tr>\n",
       "    <tr>\n",
       "      <th>85</th>\n",
       "      <td>ckan_c41fa3c2_9beb_4d7f_ad27_9cfb16f3a0e3.198</td>\n",
       "      <td>DOG EXERCISE AREAS</td>\n",
       "      <td></td>\n",
       "      <td>(POLYGON ((153.42220878 -27.94895427, 153.4225...</td>\n",
       "    </tr>\n",
       "    <tr>\n",
       "      <th>7</th>\n",
       "      <td>ckan_c41fa3c2_9beb_4d7f_ad27_9cfb16f3a0e3.9</td>\n",
       "      <td>DOG EXERCISE AREAS</td>\n",
       "      <td></td>\n",
       "      <td>(POLYGON ((153.4099876 -28.01375522, 153.41022...</td>\n",
       "    </tr>\n",
       "    <tr>\n",
       "      <th>9</th>\n",
       "      <td>ckan_c41fa3c2_9beb_4d7f_ad27_9cfb16f3a0e3.13</td>\n",
       "      <td>DOG EXERCISE AREAS</td>\n",
       "      <td></td>\n",
       "      <td>(POLYGON ((153.27283517 -27.78048337, 153.2730...</td>\n",
       "    </tr>\n",
       "  </tbody>\n",
       "</table>\n",
       "</div>"
      ],
      "text/plain": [
       "                                               id                name snippet  \\\n",
       "20   ckan_c41fa3c2_9beb_4d7f_ad27_9cfb16f3a0e3.42  DOG EXERCISE AREAS           \n",
       "93  ckan_c41fa3c2_9beb_4d7f_ad27_9cfb16f3a0e3.226  DOG EXERCISE AREAS           \n",
       "39   ckan_c41fa3c2_9beb_4d7f_ad27_9cfb16f3a0e3.85  DOG EXERCISE AREAS           \n",
       "77  ckan_c41fa3c2_9beb_4d7f_ad27_9cfb16f3a0e3.190  DOG EXERCISE AREAS           \n",
       "45  ckan_c41fa3c2_9beb_4d7f_ad27_9cfb16f3a0e3.115  DOG EXERCISE AREAS           \n",
       "17   ckan_c41fa3c2_9beb_4d7f_ad27_9cfb16f3a0e3.39  DOG EXERCISE AREAS           \n",
       "97  ckan_c41fa3c2_9beb_4d7f_ad27_9cfb16f3a0e3.231  DOG EXERCISE AREAS           \n",
       "85  ckan_c41fa3c2_9beb_4d7f_ad27_9cfb16f3a0e3.198  DOG EXERCISE AREAS           \n",
       "7     ckan_c41fa3c2_9beb_4d7f_ad27_9cfb16f3a0e3.9  DOG EXERCISE AREAS           \n",
       "9    ckan_c41fa3c2_9beb_4d7f_ad27_9cfb16f3a0e3.13  DOG EXERCISE AREAS           \n",
       "\n",
       "                                             geometry  \n",
       "20  (POLYGON ((153.14176772 -27.68204804, 153.1428...  \n",
       "93  (POLYGON ((153.46689216 -28.11687054, 153.4670...  \n",
       "39  (POLYGON ((153.44211413 -28.11377481, 153.4420...  \n",
       "77  (POLYGON ((153.41748888 -28.00990472, 153.4174...  \n",
       "45  (POLYGON ((153.39658385 -27.98296189, 153.3965...  \n",
       "17  (POLYGON ((153.41621922 -27.99711504, 153.4162...  \n",
       "97  (POLYGON ((153.40339636 -28.03139525, 153.4033...  \n",
       "85  (POLYGON ((153.42220878 -27.94895427, 153.4225...  \n",
       "7   (POLYGON ((153.4099876 -28.01375522, 153.41022...  \n",
       "9   (POLYGON ((153.27283517 -27.78048337, 153.2730...  "
      ]
     },
     "execution_count": 180,
     "metadata": {},
     "output_type": "execute_result"
    }
   ],
   "source": [
    "#list all DOG EXERCISE AREAS data\n",
    "fname = \"Dogs allowed.json\"\n",
    "YESDOG = gpd.read_file(fname)\n",
    "YESDOG.sample(10)"
   ]
  },
  {
   "cell_type": "code",
   "execution_count": 181,
   "metadata": {
    "slideshow": {
     "slide_type": "slide"
    }
   },
   "outputs": [
    {
     "data": {
      "text/plain": [
       "<matplotlib.axes._subplots.AxesSubplot at 0x2222c814668>"
      ]
     },
     "execution_count": 181,
     "metadata": {},
     "output_type": "execute_result"
    },
    {
     "data": {
      "image/png": "[encoded data removed]",
      "text/plain": [
       "<Figure size 720x720 with 1 Axes>"
      ]
     },
     "metadata": {
      "needs_background": "light"
     },
     "output_type": "display_data"
    }
   ],
   "source": [
    "#plot all geometry for DOG EXERCISE AREAS\n",
    "YESDOG.geometry.plot(figsize=(10, 10))"
   ]
  },
  {
   "cell_type": "code",
   "execution_count": 182,
   "metadata": {
    "slideshow": {
     "slide_type": "slide"
    }
   },
   "outputs": [
    {
     "data": {
      "text/html": [
       "<div>\n",
       "<style scoped>\n",
       "    .dataframe tbody tr th:only-of-type {\n",
       "        vertical-align: middle;\n",
       "    }\n",
       "\n",
       "    .dataframe tbody tr th {\n",
       "        vertical-align: top;\n",
       "    }\n",
       "\n",
       "    .dataframe thead th {\n",
       "        text-align: right;\n",
       "    }\n",
       "</style>\n",
       "<table border=\"1\" class=\"dataframe\">\n",
       "  <thead>\n",
       "    <tr style=\"text-align: right;\">\n",
       "      <th></th>\n",
       "      <th>id</th>\n",
       "      <th>name</th>\n",
       "      <th>snippet</th>\n",
       "      <th>geometry</th>\n",
       "    </tr>\n",
       "  </thead>\n",
       "  <tbody>\n",
       "    <tr>\n",
       "      <th>94</th>\n",
       "      <td>ckan_c41fa3c2_9beb_4d7f_ad27_9cfb16f3a0e3.175</td>\n",
       "      <td>NO DOGS ALLOWED</td>\n",
       "      <td></td>\n",
       "      <td>(POLYGON ((153.4274652 -27.80402596, 153.42858...</td>\n",
       "    </tr>\n",
       "    <tr>\n",
       "      <th>66</th>\n",
       "      <td>ckan_c41fa3c2_9beb_4d7f_ad27_9cfb16f3a0e3.129</td>\n",
       "      <td>NO DOGS ALLOWED</td>\n",
       "      <td></td>\n",
       "      <td>(POLYGON ((153.41939122 -27.88906495, 153.4197...</td>\n",
       "    </tr>\n",
       "    <tr>\n",
       "      <th>61</th>\n",
       "      <td>ckan_c41fa3c2_9beb_4d7f_ad27_9cfb16f3a0e3.108</td>\n",
       "      <td>NO DOGS ALLOWED</td>\n",
       "      <td></td>\n",
       "      <td>(POLYGON ((153.42468727 -27.81281265, 153.4258...</td>\n",
       "    </tr>\n",
       "    <tr>\n",
       "      <th>124</th>\n",
       "      <td>ckan_c41fa3c2_9beb_4d7f_ad27_9cfb16f3a0e3.221</td>\n",
       "      <td>NO DOGS ALLOWED</td>\n",
       "      <td></td>\n",
       "      <td>(POLYGON ((153.45954251 -28.09715394, 153.4589...</td>\n",
       "    </tr>\n",
       "    <tr>\n",
       "      <th>34</th>\n",
       "      <td>ckan_c41fa3c2_9beb_4d7f_ad27_9cfb16f3a0e3.63</td>\n",
       "      <td>NO DOGS ALLOWED</td>\n",
       "      <td></td>\n",
       "      <td>(POLYGON ((153.41520094 -27.82038265, 153.4203...</td>\n",
       "    </tr>\n",
       "    <tr>\n",
       "      <th>165</th>\n",
       "      <td>ckan_c41fa3c2_9beb_4d7f_ad27_9cfb16f3a0e3.295</td>\n",
       "      <td>NO DOGS ALLOWED</td>\n",
       "      <td></td>\n",
       "      <td>(POLYGON ((153.4097846 -27.8271766, 153.408550...</td>\n",
       "    </tr>\n",
       "    <tr>\n",
       "      <th>154</th>\n",
       "      <td>ckan_c41fa3c2_9beb_4d7f_ad27_9cfb16f3a0e3.278</td>\n",
       "      <td>NO DOGS ALLOWED</td>\n",
       "      <td></td>\n",
       "      <td>(POLYGON ((153.39072514 -27.95491295, 153.3907...</td>\n",
       "    </tr>\n",
       "    <tr>\n",
       "      <th>82</th>\n",
       "      <td>ckan_c41fa3c2_9beb_4d7f_ad27_9cfb16f3a0e3.153</td>\n",
       "      <td>NO DOGS ALLOWED</td>\n",
       "      <td></td>\n",
       "      <td>(POLYGON ((153.41927173 -27.96750523, 153.4190...</td>\n",
       "    </tr>\n",
       "    <tr>\n",
       "      <th>29</th>\n",
       "      <td>ckan_c41fa3c2_9beb_4d7f_ad27_9cfb16f3a0e3.58</td>\n",
       "      <td>NO DOGS ALLOWED</td>\n",
       "      <td></td>\n",
       "      <td>(POLYGON ((153.42232105 -27.89726912, 153.4223...</td>\n",
       "    </tr>\n",
       "    <tr>\n",
       "      <th>150</th>\n",
       "      <td>ckan_c41fa3c2_9beb_4d7f_ad27_9cfb16f3a0e3.259</td>\n",
       "      <td>NO DOGS ALLOWED</td>\n",
       "      <td></td>\n",
       "      <td>(POLYGON ((153.43150871 -27.79346958, 153.4319...</td>\n",
       "    </tr>\n",
       "  </tbody>\n",
       "</table>\n",
       "</div>"
      ],
      "text/plain": [
       "                                                id             name snippet  \\\n",
       "94   ckan_c41fa3c2_9beb_4d7f_ad27_9cfb16f3a0e3.175  NO DOGS ALLOWED           \n",
       "66   ckan_c41fa3c2_9beb_4d7f_ad27_9cfb16f3a0e3.129  NO DOGS ALLOWED           \n",
       "61   ckan_c41fa3c2_9beb_4d7f_ad27_9cfb16f3a0e3.108  NO DOGS ALLOWED           \n",
       "124  ckan_c41fa3c2_9beb_4d7f_ad27_9cfb16f3a0e3.221  NO DOGS ALLOWED           \n",
       "34    ckan_c41fa3c2_9beb_4d7f_ad27_9cfb16f3a0e3.63  NO DOGS ALLOWED           \n",
       "165  ckan_c41fa3c2_9beb_4d7f_ad27_9cfb16f3a0e3.295  NO DOGS ALLOWED           \n",
       "154  ckan_c41fa3c2_9beb_4d7f_ad27_9cfb16f3a0e3.278  NO DOGS ALLOWED           \n",
       "82   ckan_c41fa3c2_9beb_4d7f_ad27_9cfb16f3a0e3.153  NO DOGS ALLOWED           \n",
       "29    ckan_c41fa3c2_9beb_4d7f_ad27_9cfb16f3a0e3.58  NO DOGS ALLOWED           \n",
       "150  ckan_c41fa3c2_9beb_4d7f_ad27_9cfb16f3a0e3.259  NO DOGS ALLOWED           \n",
       "\n",
       "                                              geometry  \n",
       "94   (POLYGON ((153.4274652 -27.80402596, 153.42858...  \n",
       "66   (POLYGON ((153.41939122 -27.88906495, 153.4197...  \n",
       "61   (POLYGON ((153.42468727 -27.81281265, 153.4258...  \n",
       "124  (POLYGON ((153.45954251 -28.09715394, 153.4589...  \n",
       "34   (POLYGON ((153.41520094 -27.82038265, 153.4203...  \n",
       "165  (POLYGON ((153.4097846 -27.8271766, 153.408550...  \n",
       "154  (POLYGON ((153.39072514 -27.95491295, 153.3907...  \n",
       "82   (POLYGON ((153.41927173 -27.96750523, 153.4190...  \n",
       "29   (POLYGON ((153.42232105 -27.89726912, 153.4223...  \n",
       "150  (POLYGON ((153.43150871 -27.79346958, 153.4319...  "
      ]
     },
     "execution_count": 182,
     "metadata": {},
     "output_type": "execute_result"
    }
   ],
   "source": [
    "#list all NO DOGS ALLOWED data\n",
    "fname = \"No Dogs.json\"\n",
    "NODOG = gpd.read_file(fname)\n",
    "NODOG.sample(10)"
   ]
  },
  {
   "cell_type": "code",
   "execution_count": 183,
   "metadata": {
    "scrolled": false,
    "slideshow": {
     "slide_type": "slide"
    }
   },
   "outputs": [
    {
     "data": {
      "text/plain": [
       "<matplotlib.axes._subplots.AxesSubplot at 0x22233ee96d8>"
      ]
     },
     "execution_count": 183,
     "metadata": {},
     "output_type": "execute_result"
    },
    {
     "data": {
      "image/png": "[encoded data removed]",
      "text/plain": [
       "<Figure size 720x720 with 1 Axes>"
      ]
     },
     "metadata": {
      "needs_background": "light"
     },
     "output_type": "display_data"
    }
   ],
   "source": [
    "#plot all geometry for NO DOGS ALLOWED\n",
    "NODOG.geometry.plot(figsize=(10, 10))"
   ]
  },
  {
   "cell_type": "code",
   "execution_count": 184,
   "metadata": {
    "slideshow": {
     "slide_type": "slide"
    }
   },
   "outputs": [
    {
     "data": {
      "text/html": [
       "<div>\n",
       "<style scoped>\n",
       "    .dataframe tbody tr th:only-of-type {\n",
       "        vertical-align: middle;\n",
       "    }\n",
       "\n",
       "    .dataframe tbody tr th {\n",
       "        vertical-align: top;\n",
       "    }\n",
       "\n",
       "    .dataframe thead th {\n",
       "        text-align: right;\n",
       "    }\n",
       "</style>\n",
       "<table border=\"1\" class=\"dataframe\">\n",
       "  <thead>\n",
       "    <tr style=\"text-align: right;\">\n",
       "      <th></th>\n",
       "      <th>id</th>\n",
       "      <th>name</th>\n",
       "      <th>snippet</th>\n",
       "      <th>geometry</th>\n",
       "    </tr>\n",
       "  </thead>\n",
       "  <tbody>\n",
       "    <tr>\n",
       "      <th>8</th>\n",
       "      <td>ckan_c41fa3c2_9beb_4d7f_ad27_9cfb16f3a0e3.308</td>\n",
       "      <td>DOGS ON LEASH</td>\n",
       "      <td></td>\n",
       "      <td>(POLYGON ((153.41437241 -27.99691962, 153.4143...</td>\n",
       "    </tr>\n",
       "    <tr>\n",
       "      <th>5</th>\n",
       "      <td>ckan_c41fa3c2_9beb_4d7f_ad27_9cfb16f3a0e3.167</td>\n",
       "      <td>DOGS ON LEASH</td>\n",
       "      <td></td>\n",
       "      <td>(POLYGON ((153.43331843 -28.01903702, 153.4334...</td>\n",
       "    </tr>\n",
       "    <tr>\n",
       "      <th>3</th>\n",
       "      <td>ckan_c41fa3c2_9beb_4d7f_ad27_9cfb16f3a0e3.111</td>\n",
       "      <td>DOGS ON LEASH</td>\n",
       "      <td></td>\n",
       "      <td>(POLYGON ((153.47686624 -28.1362421, 153.47709...</td>\n",
       "    </tr>\n",
       "    <tr>\n",
       "      <th>9</th>\n",
       "      <td>ckan_c41fa3c2_9beb_4d7f_ad27_9cfb16f3a0e3.310</td>\n",
       "      <td>DOGS ON LEASH</td>\n",
       "      <td></td>\n",
       "      <td>(POLYGON ((153.52077163 -28.16510969, 153.5207...</td>\n",
       "    </tr>\n",
       "    <tr>\n",
       "      <th>7</th>\n",
       "      <td>ckan_c41fa3c2_9beb_4d7f_ad27_9cfb16f3a0e3.280</td>\n",
       "      <td>DOGS ON LEASH</td>\n",
       "      <td></td>\n",
       "      <td>(POLYGON ((153.40956746 -27.94952388, 153.4098...</td>\n",
       "    </tr>\n",
       "    <tr>\n",
       "      <th>0</th>\n",
       "      <td>ckan_c41fa3c2_9beb_4d7f_ad27_9cfb16f3a0e3.11</td>\n",
       "      <td>DOGS ON LEASH</td>\n",
       "      <td></td>\n",
       "      <td>(POLYGON ((153.43377707 -28.0272589, 153.43386...</td>\n",
       "    </tr>\n",
       "    <tr>\n",
       "      <th>1</th>\n",
       "      <td>ckan_c41fa3c2_9beb_4d7f_ad27_9cfb16f3a0e3.12</td>\n",
       "      <td>DOGS ON LEASH</td>\n",
       "      <td></td>\n",
       "      <td>(POLYGON ((153.39220795 -27.92368256, 153.3943...</td>\n",
       "    </tr>\n",
       "    <tr>\n",
       "      <th>6</th>\n",
       "      <td>ckan_c41fa3c2_9beb_4d7f_ad27_9cfb16f3a0e3.275</td>\n",
       "      <td>DOGS ON LEASH</td>\n",
       "      <td></td>\n",
       "      <td>(POLYGON ((153.40748393 -27.93823093, 153.4075...</td>\n",
       "    </tr>\n",
       "    <tr>\n",
       "      <th>4</th>\n",
       "      <td>ckan_c41fa3c2_9beb_4d7f_ad27_9cfb16f3a0e3.120</td>\n",
       "      <td>DOGS ON LEASH</td>\n",
       "      <td></td>\n",
       "      <td>(POLYGON ((153.4261111 -28.00232152, 153.42599...</td>\n",
       "    </tr>\n",
       "    <tr>\n",
       "      <th>2</th>\n",
       "      <td>ckan_c41fa3c2_9beb_4d7f_ad27_9cfb16f3a0e3.38</td>\n",
       "      <td>DOGS ON LEASH</td>\n",
       "      <td></td>\n",
       "      <td>(POLYGON ((153.4059888 -27.98699903, 153.40600...</td>\n",
       "    </tr>\n",
       "  </tbody>\n",
       "</table>\n",
       "</div>"
      ],
      "text/plain": [
       "                                              id           name snippet  \\\n",
       "8  ckan_c41fa3c2_9beb_4d7f_ad27_9cfb16f3a0e3.308  DOGS ON LEASH           \n",
       "5  ckan_c41fa3c2_9beb_4d7f_ad27_9cfb16f3a0e3.167  DOGS ON LEASH           \n",
       "3  ckan_c41fa3c2_9beb_4d7f_ad27_9cfb16f3a0e3.111  DOGS ON LEASH           \n",
       "9  ckan_c41fa3c2_9beb_4d7f_ad27_9cfb16f3a0e3.310  DOGS ON LEASH           \n",
       "7  ckan_c41fa3c2_9beb_4d7f_ad27_9cfb16f3a0e3.280  DOGS ON LEASH           \n",
       "0   ckan_c41fa3c2_9beb_4d7f_ad27_9cfb16f3a0e3.11  DOGS ON LEASH           \n",
       "1   ckan_c41fa3c2_9beb_4d7f_ad27_9cfb16f3a0e3.12  DOGS ON LEASH           \n",
       "6  ckan_c41fa3c2_9beb_4d7f_ad27_9cfb16f3a0e3.275  DOGS ON LEASH           \n",
       "4  ckan_c41fa3c2_9beb_4d7f_ad27_9cfb16f3a0e3.120  DOGS ON LEASH           \n",
       "2   ckan_c41fa3c2_9beb_4d7f_ad27_9cfb16f3a0e3.38  DOGS ON LEASH           \n",
       "\n",
       "                                            geometry  \n",
       "8  (POLYGON ((153.41437241 -27.99691962, 153.4143...  \n",
       "5  (POLYGON ((153.43331843 -28.01903702, 153.4334...  \n",
       "3  (POLYGON ((153.47686624 -28.1362421, 153.47709...  \n",
       "9  (POLYGON ((153.52077163 -28.16510969, 153.5207...  \n",
       "7  (POLYGON ((153.40956746 -27.94952388, 153.4098...  \n",
       "0  (POLYGON ((153.43377707 -28.0272589, 153.43386...  \n",
       "1  (POLYGON ((153.39220795 -27.92368256, 153.3943...  \n",
       "6  (POLYGON ((153.40748393 -27.93823093, 153.4075...  \n",
       "4  (POLYGON ((153.4261111 -28.00232152, 153.42599...  \n",
       "2  (POLYGON ((153.4059888 -27.98699903, 153.40600...  "
      ]
     },
     "execution_count": 184,
     "metadata": {},
     "output_type": "execute_result"
    }
   ],
   "source": [
    "#list all DOGS ON LEASH data\n",
    "fname = \"Dogs with leash.json\"\n",
    "LEASHDOG = gpd.read_file(fname)\n",
    "LEASHDOG.sample(10)"
   ]
  },
  {
   "cell_type": "code",
   "execution_count": 185,
   "metadata": {
    "slideshow": {
     "slide_type": "slide"
    }
   },
   "outputs": [
    {
     "data": {
      "text/plain": [
       "<matplotlib.axes._subplots.AxesSubplot at 0x2222ff2fdd8>"
      ]
     },
     "execution_count": 185,
     "metadata": {},
     "output_type": "execute_result"
    },
    {
     "data": {
      "image/png": "[encoded data removed]",
      "text/plain": [
       "<Figure size 720x720 with 1 Axes>"
      ]
     },
     "metadata": {
      "needs_background": "light"
     },
     "output_type": "display_data"
    }
   ],
   "source": [
    "#plot all geometry for DOGS ON LEASH\n",
    "LEASHDOG.geometry.plot(figsize=(10, 10))"
   ]
  },
  {
   "cell_type": "code",
   "execution_count": 186,
   "metadata": {
    "slideshow": {
     "slide_type": "slide"
    }
   },
   "outputs": [
    {
     "data": {
      "text/html": [
       "<a href=\"http://geojson.io/#map=10/-27.9547/153.3462\">Dog Restriction Zone Mapping</a>"
      ],
      "text/plain": [
       "<IPython.core.display.HTML object>"
      ]
     },
     "metadata": {},
     "output_type": "display_data"
    }
   ],
   "source": [
    "#insert link to geojson.io website\n",
    "from IPython.core.display import display, HTML\n",
    "display(HTML(\"\"\"<a href=\"http://geojson.io/#map=10/-27.9547/153.3462\">Dog Restriction Zone Mapping</a>\"\"\"))"
   ]
  },
  {
   "cell_type": "code",
   "execution_count": 187,
   "metadata": {
    "slideshow": {
     "slide_type": "slide"
    }
   },
   "outputs": [],
   "source": [
    "#shape coordinate plot code\n",
    "import shapely\n",
    "#certain point\n",
    "right_here = shapely.geometry.point.Point(151.2299732, -33.9178754)\n",
    "#distance from point\n",
    "df[\"DOGS\"] = df.geometry.distance(right_here)"
   ]
  },
  {
   "cell_type": "code",
   "execution_count": 188,
   "metadata": {
    "slideshow": {
     "slide_type": "slide"
    }
   },
   "outputs": [
    {
     "data": {
      "text/plain": [
       "<matplotlib.axes._subplots.AxesSubplot at 0x22234bf7e10>"
      ]
     },
     "execution_count": 188,
     "metadata": {},
     "output_type": "execute_result"
    },
    {
     "data": {
      "image/png": "[encoded data removed]",
      "text/plain": [
       "<Figure size 720x720 with 1 Axes>"
      ]
     },
     "metadata": {
      "needs_background": "light"
     },
     "output_type": "display_data"
    }
   ],
   "source": [
    "\n",
    "df.DOGS.hist(bins=50, figsize = (10,10), color = 'r')"
   ]
  }
 ],
 "metadata": {
  "celltoolbar": "Slideshow",
  "kernelspec": {
   "display_name": "Python 3",
   "language": "python",
   "name": "python3"
  },
  "language_info": {
   "codemirror_mode": {
    "name": "ipython",
    "version": 3
   },
   "file_extension": ".py",
   "mimetype": "text/x-python",
   "name": "python",
   "nbconvert_exporter": "python",
   "pygments_lexer": "ipython3",
   "version": "3.7.3"
  }
 },
 "nbformat": 4,
 "nbformat_minor": 2
}
